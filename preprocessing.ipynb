{
 "cells": [
  {
   "cell_type": "code",
   "execution_count": 1,
   "metadata": {},
   "outputs": [],
   "source": [
    "import numpy as np\n",
    "import pandas as pd\n",
    "import re"
   ]
  },
  {
   "cell_type": "code",
   "execution_count": 16,
   "metadata": {},
   "outputs": [],
   "source": [
    "with open('chat_clean.txt', encoding='utf-8') as raw_data: #читаем файл\n",
    "    data = raw_data.read().split('\\n')"
   ]
  },
  {
   "cell_type": "code",
   "execution_count": 17,
   "metadata": {},
   "outputs": [],
   "source": [
    "data[0] = data[0].replace('\\ufeff', '')"
   ]
  },
  {
   "cell_type": "code",
   "execution_count": 9,
   "metadata": {},
   "outputs": [],
   "source": [
    "re_date = re.compile('\\d{2}\\.\\d{2}\\.\\d{4}')  #регулярные выражения для извлечения данных из текста\n",
    "re_time = re.compile('\\d{2}:\\d{2}')\n",
    "re_user = re.compile('^.{18}-\\s(.+?):')\n",
    "re_msge = re.compile('^.{18}-\\s.+?:\\s(.*)')"
   ]
  },
  {
   "cell_type": "code",
   "execution_count": 10,
   "metadata": {},
   "outputs": [],
   "source": [
    "def first_occ(regexp, string): #функция для взятия первого совпадения. Можно использовать search и затем group\n",
    "    result = re.findall(regexp, string)\n",
    "    if result: return result[0]"
   ]
  },
  {
   "cell_type": "code",
   "execution_count": 11,
   "metadata": {},
   "outputs": [],
   "source": [
    "columns = ['date', 'time', 'user', 'msge'] #колонки будущего датафрейма\n",
    "\n",
    "data_dict = {} #временный словарь для формирования датафрейма\n",
    "for i in columns:\n",
    "    data_dict[i] = []\n",
    "    \n",
    "for row in data: #заполняем словарь\n",
    "    data_dict['date'].append(first_occ(re_date, row))\n",
    "    data_dict['time'].append(first_occ(re_time, row))\n",
    "    data_dict['user'].append(first_occ(re_user, row))\n",
    "    data_dict['msge'].append(first_occ(re_msge, row))"
   ]
  },
  {
   "cell_type": "code",
   "execution_count": 12,
   "metadata": {},
   "outputs": [],
   "source": [
    "df = pd.DataFrame(data_dict) #создаем датафрейм и\n",
    "df = df[~df.msge.isna()] #чистим его от None"
   ]
  },
  {
   "cell_type": "code",
   "execution_count": 14,
   "metadata": {},
   "outputs": [],
   "source": [
    "df.to_csv('ready_dataset.csv') #переводим в csv"
   ]
  }
 ],
 "metadata": {
  "kernelspec": {
   "display_name": "Python 3",
   "language": "python",
   "name": "python3"
  },
  "language_info": {
   "codemirror_mode": {
    "name": "ipython",
    "version": 3
   },
   "file_extension": ".py",
   "mimetype": "text/x-python",
   "name": "python",
   "nbconvert_exporter": "python",
   "pygments_lexer": "ipython3",
   "version": "3.7.4"
  }
 },
 "nbformat": 4,
 "nbformat_minor": 2
}
